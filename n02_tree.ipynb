{
 "cells": [
  {
   "cell_type": "markdown",
   "id": "a10e6630",
   "metadata": {},
   "source": [
    "# Building a phylogenetic tree\n",
    "\n",
    "To investigate evolutionary relationships between sequences in the alignment, we have to reconstruct the phylogenetic tree that approximates the evolutionary history of the viruses whose genomes we are analyzing. There are several commonly used tools for this, including\n",
    "\n",
    " - IQtree\n",
    " - RAxML\n",
    " - FastTree\n",
    "\n",
    "We will use IQtree here, which can again be installed with `conda` via `conda install -c bioconda iqtree`. \n",
    "\n",
    "We can call IQtree (the program has looooots of options) via \n",
    "```bash\n",
    "iqtree -s <input_alignment> -m GTR\n",
    "```\n",
    "The flag `-m GTR` tells IQtree to use a general-time-reversible substitution model.\n",
    "\n",
    "After running the command, you'll find a number of files in your directory. \n",
    "\n",
    "```txt\n",
    "<input_alignment>.fasta.bionj\n",
    "<input_alignment>.fasta.ckp.gz\n",
    "<input_alignment>.fasta.iqtree\n",
    "<input_alignment>.fasta.log\n",
    "<input_alignment>.fasta.mldist\n",
    "<input_alignment>.fasta.treefile\n",
    "```\n",
    "Some of the are log files, or checkpoints to restart the analysis. The file we care most about is the file ending in `.treefile`. It contains the reconstructed tree in [`newick` format](https://en.wikipedia.org/wiki/Newick_format). \n",
    "\n",
    "\n"
   ]
  },
  {
   "cell_type": "markdown",
   "id": "a4fb5a49",
   "metadata": {},
   "source": [
    "## visualizing the tree\n",
    "\n"
   ]
  },
  {
   "cell_type": "markdown",
   "id": "0bfcce1c",
   "metadata": {},
   "source": [
    "# Ancestral state reconstruction: country of origin"
   ]
  },
  {
   "cell_type": "markdown",
   "id": "1c6bb993",
   "metadata": {},
   "source": []
  },
  {
   "cell_type": "code",
   "execution_count": null,
   "id": "822cf80d",
   "metadata": {},
   "outputs": [],
   "source": []
  }
 ],
 "metadata": {
  "kernelspec": {
   "display_name": "bioinfo",
   "language": "python",
   "name": "python3"
  },
  "language_info": {
   "codemirror_mode": {
    "name": "ipython",
    "version": 3
   },
   "file_extension": ".py",
   "mimetype": "text/x-python",
   "name": "python",
   "nbconvert_exporter": "python",
   "pygments_lexer": "ipython3",
   "version": "3.12.2"
  }
 },
 "nbformat": 4,
 "nbformat_minor": 5
}
